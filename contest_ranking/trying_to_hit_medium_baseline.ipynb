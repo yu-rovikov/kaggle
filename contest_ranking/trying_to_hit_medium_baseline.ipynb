{
 "cells": [
  {
   "cell_type": "code",
   "execution_count": 1,
   "metadata": {
    "collapsed": false
   },
   "outputs": [
    {
     "name": "stderr",
     "output_type": "stream",
     "text": [
      "/home/yuru/anaconda3/lib/python3.5/site-packages/sklearn/cross_validation.py:44: DeprecationWarning: This module was deprecated in version 0.18 in favor of the model_selection module into which all the refactored classes and functions are moved. Also note that the interface of the new CV iterators are different from that of this module. This module will be removed in 0.20.\n",
      "  \"This module will be removed in 0.20.\", DeprecationWarning)\n"
     ]
    }
   ],
   "source": [
    "import pandas as pd\n",
    "import numpy as np\n",
    "\n",
    "from xgboost import XGBRegressor"
   ]
  },
  {
   "cell_type": "code",
   "execution_count": 2,
   "metadata": {
    "collapsed": true
   },
   "outputs": [],
   "source": [
    "def dcg(r):\n",
    "    r = np.asfarray(r)[:10]\n",
    "    if r.size:\n",
    "        return r[0] + np.sum(r[1:] / np.log2(np.arange(2, r.size + 1)))\n",
    "    return 0.\n",
    "\n",
    "def ndcg(r):\n",
    "    dcg_max = dcg(sorted(r, reverse=True))\n",
    "    if not dcg_max:\n",
    "        return 0.\n",
    "    return dcg(r) / dcg_max"
   ]
  },
  {
   "cell_type": "code",
   "execution_count": 3,
   "metadata": {
    "collapsed": false
   },
   "outputs": [],
   "source": [
    "train_pool = pd.read_csv('data/train.csv', encoding='utf-8')\n",
    "test_pool = pd.read_csv('data/test.csv', encoding='utf-8')"
   ]
  },
  {
   "cell_type": "markdown",
   "metadata": {},
   "source": [
    "Напишем функции, генерирующие простые признаки основанные на пересечении триграмм между запросом и названием организации"
   ]
  },
  {
   "cell_type": "code",
   "execution_count": 4,
   "metadata": {
    "collapsed": true
   },
   "outputs": [],
   "source": [
    "def get_trigrams(string):\n",
    "    string = '^^' + string + '$$'\n",
    "    trigrams = set()\n",
    "    trigrams_count = 0\n",
    "    \n",
    "    for i in range(len(string) - 2):\n",
    "        trigrams.add(string[i:i+3])\n",
    "        trigrams_count += 1\n",
    "        \n",
    "    return trigrams, trigrams_count\n",
    "\n",
    "def common_trigrams_factors(query, org_name):\n",
    "    query_trigrams, query_trigrams_count = get_trigrams(query)\n",
    "    org_name_trigrams, org_name_trigrams_count = get_trigrams(org_name)\n",
    "\n",
    "    factors = [float(len(query_trigrams.intersection(org_name_trigrams)))]\n",
    "\n",
    "    factors.append(0. if query_trigrams_count == 0. else 0.1 + factors[0] / query_trigrams_count)\n",
    "    factors.append(0. if org_name_trigrams_count == 0. else 0.1 + factors[0] / org_name_trigrams_count)    \n",
    "    \n",
    "    return factors"
   ]
  },
  {
   "cell_type": "markdown",
   "metadata": {},
   "source": [
    "Посчитаем данные факторы для каждого файла"
   ]
  },
  {
   "cell_type": "code",
   "execution_count": 108,
   "metadata": {
    "collapsed": true
   },
   "outputs": [],
   "source": [
    "def calc_trigram_factors(row):\n",
    "    return pd.Series(common_trigrams_factors(row.query, row.org_name))\n",
    "    \n",
    "train_trigram_factors = train_pool.apply(calc_trigram_factors, axis=1)\n",
    "test_trigram_factors = test_pool.apply(calc_trigram_factors, axis=1)"
   ]
  },
  {
   "cell_type": "code",
   "execution_count": 109,
   "metadata": {
    "collapsed": false
   },
   "outputs": [],
   "source": [
    "train_pool['Trig0'] = train_trigram_factors.values[:, 0]\n",
    "train_pool['Trig1'] = train_trigram_factors.values[:, 1]\n",
    "train_pool['Trig2'] = train_trigram_factors.values[:, 2]\n",
    "\n",
    "test_pool['Trig0'] = test_trigram_factors.values[:, 0]\n",
    "test_pool['Trig1'] = test_trigram_factors.values[:, 1]\n",
    "test_pool['Trig2'] = test_trigram_factors.values[:, 2]"
   ]
  },
  {
   "cell_type": "markdown",
   "metadata": {},
   "source": [
    "Впишем в общий пул эти факторы под говорящими названиями."
   ]
  },
  {
   "cell_type": "markdown",
   "metadata": {},
   "source": [
    "## Достанем информацию о координатах объекта и всё запихаем куда надо."
   ]
  },
  {
   "cell_type": "code",
   "execution_count": 75,
   "metadata": {
    "collapsed": true
   },
   "outputs": [],
   "source": [
    "def get_pos_and_coordinate(t):\n",
    "    return t['pos']['coordinates']"
   ]
  },
  {
   "cell_type": "code",
   "execution_count": 73,
   "metadata": {
    "collapsed": false
   },
   "outputs": [],
   "source": [
    "train_org_information = pd.read_json('data/train_org_information.json', orient='columns', \n",
    "                                     convert_dates=False, convert_axes=False)\n",
    "train_org_information = train_org_information.transpose()\n",
    "\n",
    "train_address = train_org_information['address'].apply(get_pos_and_coordinate).to_frame()\n",
    "train_address['org_id'] = train_address.index\n",
    "train_address[['org_id']] = train_address[['org_id']].apply(pd.to_numeric)\n",
    "train_pool = pd.merge(train_pool, train_address, left_on='org_id', right_on='org_id')"
   ]
  },
  {
   "cell_type": "code",
   "execution_count": 74,
   "metadata": {
    "collapsed": true
   },
   "outputs": [],
   "source": [
    "test_org_information = pd.read_json('data/test_org_information.json', orient='columns', \n",
    "                                     convert_dates=False, convert_axes=False)\n",
    "test_org_information = test_org_information.transpose()\n",
    "\n",
    "test_address = test_org_information['address'].apply(get_pos_and_coordinate).to_frame()\n",
    "test_address['org_id'] = test_address.index\n",
    "test_address[['org_id']] = test_address[['org_id']].apply(pd.to_numeric)\n",
    "test_pool = pd.merge(test_pool, test_address, left_on='org_id', right_on='org_id')"
   ]
  },
  {
   "cell_type": "code",
   "execution_count": 80,
   "metadata": {
    "collapsed": true
   },
   "outputs": [],
   "source": [
    "def split_and_take_first(string):\n",
    "    answer = string.split(',')\n",
    "    return float(answer[0])\n",
    "\n",
    "def split_and_take_second(string):\n",
    "    answer = string.split(',')\n",
    "    return float(answer[1])"
   ]
  },
  {
   "cell_type": "code",
   "execution_count": 85,
   "metadata": {
    "collapsed": false
   },
   "outputs": [],
   "source": [
    "train_pool['window_x'] = train_pool['window_center'].apply(split_and_take_first)\n",
    "train_pool['window_y'] = train_pool['window_center'].apply(split_and_take_second)\n",
    "train_pool['org_x'] = train_pool['address'].apply(lambda x: x[0])\n",
    "train_pool['org_y'] = train_pool['address'].apply(lambda x: x[1])\n",
    "train_pool['rel_x'] = np.absolute(train_pool['org_x'] - train_pool['window_x'])\n",
    "train_pool['rel_y'] = np.absolute(train_pool['org_y'] - train_pool['window_y'])\n",
    "train_pool['size_x'] = train_pool['window_size'].apply(split_and_take_first)\n",
    "train_pool['size_y'] = train_pool['window_size'].apply(split_and_take_second)\n",
    "train_pool['rel/size_x'] = train_pool['rel_x'] / train_pool['size_x']\n",
    "train_pool['rel/size_y'] = train_pool['rel_y'] / train_pool['size_y']\n",
    "train_pool['distance'] = (train_pool['rel_x'] ** 2 + train_pool['rel_y'] ** 2) ** 0.5"
   ]
  },
  {
   "cell_type": "code",
   "execution_count": 115,
   "metadata": {
    "collapsed": true
   },
   "outputs": [],
   "source": [
    "test_pool['window_x'] = test_pool['window_center'].apply(split_and_take_first)\n",
    "test_pool['window_y'] = test_pool['window_center'].apply(split_and_take_second)\n",
    "test_pool['org_x'] = test_pool['address'].apply(lambda x: x[0])\n",
    "test_pool['org_y'] = test_pool['address'].apply(lambda x: x[1])\n",
    "test_pool['rel_x'] = np.absolute(test_pool['org_x'] - test_pool['window_x'])\n",
    "test_pool['rel_y'] = np.absolute(test_pool['org_y'] - test_pool['window_y'])\n",
    "test_pool['size_x'] = test_pool['window_size'].apply(split_and_take_first)\n",
    "test_pool['size_y'] = test_pool['window_size'].apply(split_and_take_second)\n",
    "test_pool['rel/size_x'] = test_pool['rel_x'] / test_pool['size_x']\n",
    "test_pool['rel/size_y'] = test_pool['rel_y'] / test_pool['size_y']\n",
    "test_pool['distance'] = (test_pool['rel_x'] ** 2 + test_pool['rel_y'] ** 2) ** 0.5"
   ]
  },
  {
   "cell_type": "code",
   "execution_count": 112,
   "metadata": {
    "collapsed": false
   },
   "outputs": [
    {
     "data": {
      "text/html": [
       "<div>\n",
       "<table border=\"1\" class=\"dataframe\">\n",
       "  <thead>\n",
       "    <tr style=\"text-align: right;\">\n",
       "      <th></th>\n",
       "      <th>query_id</th>\n",
       "      <th>query</th>\n",
       "      <th>region</th>\n",
       "      <th>org_name</th>\n",
       "      <th>org_id</th>\n",
       "      <th>window_center</th>\n",
       "      <th>window_size</th>\n",
       "      <th>relevance</th>\n",
       "      <th>window_x</th>\n",
       "      <th>address</th>\n",
       "      <th>...</th>\n",
       "      <th>rel_x</th>\n",
       "      <th>rel_y</th>\n",
       "      <th>size_x</th>\n",
       "      <th>size_y</th>\n",
       "      <th>rel/size_x</th>\n",
       "      <th>rel/size_y</th>\n",
       "      <th>distance</th>\n",
       "      <th>Trig0</th>\n",
       "      <th>Trig1</th>\n",
       "      <th>Trig2</th>\n",
       "    </tr>\n",
       "  </thead>\n",
       "  <tbody>\n",
       "    <tr>\n",
       "      <th>0</th>\n",
       "      <td>11</td>\n",
       "      <td>суд, Украина, Днепропетровская область, Днепро...</td>\n",
       "      <td>21775</td>\n",
       "      <td>Суд Жовтневого району міста Дніпропетровськ</td>\n",
       "      <td>1021049127</td>\n",
       "      <td>34.613119,48.506531</td>\n",
       "      <td>0.025928,0.017380</td>\n",
       "      <td>0.0</td>\n",
       "      <td>34.613119</td>\n",
       "      <td>[35.053575, 48.456644]</td>\n",
       "      <td>...</td>\n",
       "      <td>0.440456</td>\n",
       "      <td>0.049887</td>\n",
       "      <td>0.025928</td>\n",
       "      <td>0.01738</td>\n",
       "      <td>16.987658</td>\n",
       "      <td>2.870368</td>\n",
       "      <td>0.443272</td>\n",
       "      <td>9.0</td>\n",
       "      <td>0.220000</td>\n",
       "      <td>0.300000</td>\n",
       "    </tr>\n",
       "    <tr>\n",
       "      <th>1</th>\n",
       "      <td>11</td>\n",
       "      <td>суд, Украина, Днепропетровская область, Днепро...</td>\n",
       "      <td>21775</td>\n",
       "      <td>Дніпропетровський окружний адміністративний суд</td>\n",
       "      <td>1602348889</td>\n",
       "      <td>34.613119,48.506531</td>\n",
       "      <td>0.025928,0.017380</td>\n",
       "      <td>0.0</td>\n",
       "      <td>34.613119</td>\n",
       "      <td>[35.005525, 48.429354]</td>\n",
       "      <td>...</td>\n",
       "      <td>0.392406</td>\n",
       "      <td>0.077177</td>\n",
       "      <td>0.025928</td>\n",
       "      <td>0.01738</td>\n",
       "      <td>15.134449</td>\n",
       "      <td>4.440564</td>\n",
       "      <td>0.399923</td>\n",
       "      <td>12.0</td>\n",
       "      <td>0.260000</td>\n",
       "      <td>0.344898</td>\n",
       "    </tr>\n",
       "    <tr>\n",
       "      <th>2</th>\n",
       "      <td>11</td>\n",
       "      <td>суд, Украина, Днепропетровская область, Днепро...</td>\n",
       "      <td>21775</td>\n",
       "      <td>Бабушкінський районний суд</td>\n",
       "      <td>1105837793</td>\n",
       "      <td>34.613119,48.506531</td>\n",
       "      <td>0.025928,0.017380</td>\n",
       "      <td>0.0</td>\n",
       "      <td>34.613119</td>\n",
       "      <td>[35.046872, 48.463556]</td>\n",
       "      <td>...</td>\n",
       "      <td>0.433753</td>\n",
       "      <td>0.042975</td>\n",
       "      <td>0.025928</td>\n",
       "      <td>0.01738</td>\n",
       "      <td>16.729135</td>\n",
       "      <td>2.472670</td>\n",
       "      <td>0.435877</td>\n",
       "      <td>4.0</td>\n",
       "      <td>0.153333</td>\n",
       "      <td>0.242857</td>\n",
       "    </tr>\n",
       "    <tr>\n",
       "      <th>3</th>\n",
       "      <td>11</td>\n",
       "      <td>суд, Украина, Днепропетровская область, Днепро...</td>\n",
       "      <td>21775</td>\n",
       "      <td>Красногвардійський районний суд</td>\n",
       "      <td>1066267658</td>\n",
       "      <td>34.613119,48.506531</td>\n",
       "      <td>0.025928,0.017380</td>\n",
       "      <td>0.0</td>\n",
       "      <td>34.613119</td>\n",
       "      <td>[35.009055, 48.469535]</td>\n",
       "      <td>...</td>\n",
       "      <td>0.395936</td>\n",
       "      <td>0.036996</td>\n",
       "      <td>0.025928</td>\n",
       "      <td>0.01738</td>\n",
       "      <td>15.270595</td>\n",
       "      <td>2.128654</td>\n",
       "      <td>0.397661</td>\n",
       "      <td>4.0</td>\n",
       "      <td>0.153333</td>\n",
       "      <td>0.221212</td>\n",
       "    </tr>\n",
       "  </tbody>\n",
       "</table>\n",
       "<p>4 rows × 23 columns</p>\n",
       "</div>"
      ],
      "text/plain": [
       "   query_id                                              query  region  \\\n",
       "0        11  суд, Украина, Днепропетровская область, Днепро...   21775   \n",
       "1        11  суд, Украина, Днепропетровская область, Днепро...   21775   \n",
       "2        11  суд, Украина, Днепропетровская область, Днепро...   21775   \n",
       "3        11  суд, Украина, Днепропетровская область, Днепро...   21775   \n",
       "\n",
       "                                          org_name      org_id  \\\n",
       "0      Суд Жовтневого району міста Дніпропетровськ  1021049127   \n",
       "1  Дніпропетровський окружний адміністративний суд  1602348889   \n",
       "2                       Бабушкінський районний суд  1105837793   \n",
       "3                  Красногвардійський районний суд  1066267658   \n",
       "\n",
       "         window_center        window_size  relevance   window_x  \\\n",
       "0  34.613119,48.506531  0.025928,0.017380        0.0  34.613119   \n",
       "1  34.613119,48.506531  0.025928,0.017380        0.0  34.613119   \n",
       "2  34.613119,48.506531  0.025928,0.017380        0.0  34.613119   \n",
       "3  34.613119,48.506531  0.025928,0.017380        0.0  34.613119   \n",
       "\n",
       "                  address    ...        rel_x     rel_y    size_x   size_y  \\\n",
       "0  [35.053575, 48.456644]    ...     0.440456  0.049887  0.025928  0.01738   \n",
       "1  [35.005525, 48.429354]    ...     0.392406  0.077177  0.025928  0.01738   \n",
       "2  [35.046872, 48.463556]    ...     0.433753  0.042975  0.025928  0.01738   \n",
       "3  [35.009055, 48.469535]    ...     0.395936  0.036996  0.025928  0.01738   \n",
       "\n",
       "   rel/size_x  rel/size_y  distance  Trig0     Trig1     Trig2  \n",
       "0   16.987658    2.870368  0.443272    9.0  0.220000  0.300000  \n",
       "1   15.134449    4.440564  0.399923   12.0  0.260000  0.344898  \n",
       "2   16.729135    2.472670  0.435877    4.0  0.153333  0.242857  \n",
       "3   15.270595    2.128654  0.397661    4.0  0.153333  0.221212  \n",
       "\n",
       "[4 rows x 23 columns]"
      ]
     },
     "execution_count": 112,
     "metadata": {},
     "output_type": "execute_result"
    }
   ],
   "source": [
    "train_pool[:4]"
   ]
  },
  {
   "cell_type": "code",
   "execution_count": 113,
   "metadata": {
    "collapsed": true
   },
   "outputs": [],
   "source": [
    "train_features = train_pool[['size_x', 'size_y', 'rel/size_x', 'rel/size_y', \n",
    "                             'distance', 'Trig0', 'Trig1', 'Trig2']]"
   ]
  },
  {
   "cell_type": "code",
   "execution_count": 116,
   "metadata": {
    "collapsed": false
   },
   "outputs": [],
   "source": [
    "test_features = test_pool[['size_x', 'size_y', 'rel/size_x', 'rel/size_y', \n",
    "                             'distance', 'Trig0', 'Trig1', 'Trig2']]"
   ]
  },
  {
   "cell_type": "code",
   "execution_count": 117,
   "metadata": {
    "collapsed": false
   },
   "outputs": [
    {
     "data": {
      "text/plain": [
       "XGBRegressor(base_score=0.5, colsample_bylevel=1, colsample_bytree=1, gamma=0,\n",
       "       learning_rate=0.1, max_delta_step=0, max_depth=3,\n",
       "       min_child_weight=1, missing=None, n_estimators=100, nthread=-1,\n",
       "       objective='reg:linear', reg_alpha=0, reg_lambda=1,\n",
       "       scale_pos_weight=1, seed=0, silent=True, subsample=1)"
      ]
     },
     "execution_count": 117,
     "metadata": {},
     "output_type": "execute_result"
    }
   ],
   "source": [
    "clf = XGBRegressor(n_estimators=100)\n",
    "clf.fit(train_features.values , train_pool[['relevance']].values)"
   ]
  },
  {
   "cell_type": "code",
   "execution_count": 7,
   "metadata": {
    "collapsed": true
   },
   "outputs": [],
   "source": [
    "test_pool['relevance'] = clf.predict(test_features.values)"
   ]
  },
  {
   "cell_type": "code",
   "execution_count": 8,
   "metadata": {
    "collapsed": true
   },
   "outputs": [],
   "source": [
    "test_pool.sort_values(['query_id', 'relevance'], \n",
    "                      ascending=[True, False])[['query_id', 'org_id']].to_csv('result.csv', index=None)"
   ]
  }
 ],
 "metadata": {
  "anaconda-cloud": {},
  "kernelspec": {
   "display_name": "Python [Root]",
   "language": "python",
   "name": "Python [Root]"
  },
  "language_info": {
   "codemirror_mode": {
    "name": "ipython",
    "version": 3
   },
   "file_extension": ".py",
   "mimetype": "text/x-python",
   "name": "python",
   "nbconvert_exporter": "python",
   "pygments_lexer": "ipython3",
   "version": "3.5.2"
  }
 },
 "nbformat": 4,
 "nbformat_minor": 0
}
