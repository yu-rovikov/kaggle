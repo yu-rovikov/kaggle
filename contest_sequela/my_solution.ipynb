{
 "cells": [
  {
   "cell_type": "code",
   "execution_count": 1,
   "metadata": {
    "collapsed": true
   },
   "outputs": [],
   "source": [
    "import pandas as pd\n",
    "import numpy as np\n",
    "\n",
    "from sklearn.ensemble import RandomForestClassifier\n",
    "from sklearn.model_selection import cross_val_score\n",
    "from sklearn.preprocessing import Imputer"
   ]
  },
  {
   "cell_type": "code",
   "execution_count": 2,
   "metadata": {
    "collapsed": false,
    "scrolled": true
   },
   "outputs": [
    {
     "name": "stdout",
     "output_type": "stream",
     "text": [
      "Populating the interactive namespace from numpy and matplotlib\n"
     ]
    }
   ],
   "source": [
    "%pylab inline"
   ]
  },
  {
   "cell_type": "code",
   "execution_count": 3,
   "metadata": {
    "collapsed": true
   },
   "outputs": [],
   "source": [
    "X_train = pd.read_csv('X.train.csv')\n",
    "X_test = pd.read_csv('X.test.csv')\n",
    "Y_train = pd.read_csv('y.train.csv')"
   ]
  },
  {
   "cell_type": "markdown",
   "metadata": {},
   "source": [
    "Выделим лишь вещественные признаки:"
   ]
  },
  {
   "cell_type": "code",
   "execution_count": 4,
   "metadata": {
    "collapsed": false
   },
   "outputs": [
    {
     "data": {
      "text/plain": [
       "array(['V2', 'V29', 'V31', 'V32', 'V34', 'V35', 'V36', 'V37', 'V38', 'V39',\n",
       "       'V105', 'V111', 'V113', 'V114', 'V116', 'V118', 'V144', 'V149',\n",
       "       'V152', 'V157', 'V158', 'V161', 'V162', 'V165', 'V170', 'V175',\n",
       "       'V180', 'V186', 'V188', 'V189', 'V190', 'V191', 'V192', 'V193',\n",
       "       'V195', 'V197', 'V198', 'V199', 'V201', 'V203', 'V204', 'V205',\n",
       "       'V207', 'V208', 'V209', 'V235', 'V236', 'V237', 'V238', 'V239',\n",
       "       'V240', 'V241', 'V242', 'V243', 'V244', 'V245', 'V246', 'V247',\n",
       "       'V248', 'V249', 'V250', 'V251', 'V252', 'V253', 'V254', 'V255',\n",
       "       'V256', 'V257', 'V258', 'V259', 'V260', 'V261', 'V262', 'V263',\n",
       "       'V264', 'V265', 'V266', 'V267', 'V268', 'V269', 'V270', 'V271',\n",
       "       'V272', 'V273', 'V274', 'V275', 'V276', 'V277', 'V278', 'V279',\n",
       "       'V280', 'V281', 'V282', 'V283', 'V284', 'V285', 'V286', 'V287',\n",
       "       'V288', 'V289', 'V290', 'V291', 'V292', 'V293', 'V294', 'V295',\n",
       "       'V296', 'V297', 'V298', 'V299', 'V300', 'V302', 'V303', 'V304',\n",
       "       'V305', 'V306', 'V308', 'V310', 'V311', 'V312', 'V313', 'V314',\n",
       "       'V315', 'V316', 'V317', 'V318', 'V319', 'V320', 'V321', 'V322',\n",
       "       'V323', 'V324', 'V325', 'V326', 'V327', 'V328', 'V331'], dtype=object)"
      ]
     },
     "execution_count": 4,
     "metadata": {},
     "output_type": "execute_result"
    }
   ],
   "source": [
    "names = pd.read_csv('MetaData.csv')\n",
    "names = names[names['Column Type'] == 'Numeric']['varnum'].values\n",
    "names"
   ]
  },
  {
   "cell_type": "code",
   "execution_count": 6,
   "metadata": {
    "collapsed": false
   },
   "outputs": [
    {
     "data": {
      "text/html": [
       "<div>\n",
       "<table border=\"1\" class=\"dataframe\">\n",
       "  <thead>\n",
       "    <tr style=\"text-align: right;\">\n",
       "      <th></th>\n",
       "      <th>V2</th>\n",
       "      <th>V29</th>\n",
       "      <th>V31</th>\n",
       "      <th>V32</th>\n",
       "      <th>V34</th>\n",
       "      <th>V35</th>\n",
       "      <th>V36</th>\n",
       "      <th>V37</th>\n",
       "      <th>V38</th>\n",
       "      <th>V39</th>\n",
       "      <th>...</th>\n",
       "      <th>V320</th>\n",
       "      <th>V321</th>\n",
       "      <th>V322</th>\n",
       "      <th>V323</th>\n",
       "      <th>V324</th>\n",
       "      <th>V325</th>\n",
       "      <th>V326</th>\n",
       "      <th>V327</th>\n",
       "      <th>V328</th>\n",
       "      <th>V331</th>\n",
       "    </tr>\n",
       "  </thead>\n",
       "  <tbody>\n",
       "    <tr>\n",
       "      <th>0</th>\n",
       "      <td>826.0</td>\n",
       "      <td>0.504950</td>\n",
       "      <td>0.263736</td>\n",
       "      <td>0.0</td>\n",
       "      <td>0.0</td>\n",
       "      <td>0.923077</td>\n",
       "      <td>0.446429</td>\n",
       "      <td>0.587213</td>\n",
       "      <td>0.693029</td>\n",
       "      <td>0.419803</td>\n",
       "      <td>...</td>\n",
       "      <td>0.506262</td>\n",
       "      <td>0.795181</td>\n",
       "      <td>0.433839</td>\n",
       "      <td>0.411634</td>\n",
       "      <td>0.000000</td>\n",
       "      <td>0.638849</td>\n",
       "      <td>0.648026</td>\n",
       "      <td>0.514303</td>\n",
       "      <td>0.179838</td>\n",
       "      <td>0.7</td>\n",
       "    </tr>\n",
       "    <tr>\n",
       "      <th>1</th>\n",
       "      <td>15.0</td>\n",
       "      <td>0.356436</td>\n",
       "      <td>0.329670</td>\n",
       "      <td>0.0</td>\n",
       "      <td>0.0</td>\n",
       "      <td>0.653846</td>\n",
       "      <td>0.523810</td>\n",
       "      <td>0.193190</td>\n",
       "      <td>0.324397</td>\n",
       "      <td>0.229685</td>\n",
       "      <td>...</td>\n",
       "      <td>0.304848</td>\n",
       "      <td>0.265060</td>\n",
       "      <td>0.086264</td>\n",
       "      <td>0.024492</td>\n",
       "      <td>0.666667</td>\n",
       "      <td>0.579496</td>\n",
       "      <td>0.410172</td>\n",
       "      <td>0.472586</td>\n",
       "      <td>0.108629</td>\n",
       "      <td>0.3</td>\n",
       "    </tr>\n",
       "    <tr>\n",
       "      <th>2</th>\n",
       "      <td>242.0</td>\n",
       "      <td>0.514851</td>\n",
       "      <td>0.197802</td>\n",
       "      <td>0.0</td>\n",
       "      <td>0.0</td>\n",
       "      <td>0.846154</td>\n",
       "      <td>0.464286</td>\n",
       "      <td>0.379430</td>\n",
       "      <td>0.623324</td>\n",
       "      <td>0.280448</td>\n",
       "      <td>...</td>\n",
       "      <td>0.312067</td>\n",
       "      <td>0.566265</td>\n",
       "      <td>0.359045</td>\n",
       "      <td>0.082382</td>\n",
       "      <td>0.000000</td>\n",
       "      <td>0.703597</td>\n",
       "      <td>0.530111</td>\n",
       "      <td>0.599523</td>\n",
       "      <td>0.157498</td>\n",
       "      <td>0.0</td>\n",
       "    </tr>\n",
       "    <tr>\n",
       "      <th>3</th>\n",
       "      <td>1038.0</td>\n",
       "      <td>0.554455</td>\n",
       "      <td>0.307692</td>\n",
       "      <td>0.0</td>\n",
       "      <td>0.0</td>\n",
       "      <td>0.846154</td>\n",
       "      <td>0.511905</td>\n",
       "      <td>0.330785</td>\n",
       "      <td>0.540214</td>\n",
       "      <td>0.273499</td>\n",
       "      <td>...</td>\n",
       "      <td>0.349492</td>\n",
       "      <td>0.686747</td>\n",
       "      <td>0.329900</td>\n",
       "      <td>0.183134</td>\n",
       "      <td>0.166667</td>\n",
       "      <td>0.643165</td>\n",
       "      <td>0.616650</td>\n",
       "      <td>0.530393</td>\n",
       "      <td>0.186819</td>\n",
       "      <td>0.3</td>\n",
       "    </tr>\n",
       "    <tr>\n",
       "      <th>4</th>\n",
       "      <td>971.0</td>\n",
       "      <td>0.415842</td>\n",
       "      <td>0.571429</td>\n",
       "      <td>0.0</td>\n",
       "      <td>0.0</td>\n",
       "      <td>0.923077</td>\n",
       "      <td>0.309524</td>\n",
       "      <td>0.209868</td>\n",
       "      <td>0.368633</td>\n",
       "      <td>0.228527</td>\n",
       "      <td>...</td>\n",
       "      <td>0.500810</td>\n",
       "      <td>0.674699</td>\n",
       "      <td>0.333528</td>\n",
       "      <td>0.240050</td>\n",
       "      <td>0.000000</td>\n",
       "      <td>0.632014</td>\n",
       "      <td>0.414727</td>\n",
       "      <td>0.513707</td>\n",
       "      <td>0.116169</td>\n",
       "      <td>0.8</td>\n",
       "    </tr>\n",
       "    <tr>\n",
       "      <th>5</th>\n",
       "      <td>170.0</td>\n",
       "      <td>0.554455</td>\n",
       "      <td>0.450549</td>\n",
       "      <td>0.0</td>\n",
       "      <td>0.0</td>\n",
       "      <td>0.961538</td>\n",
       "      <td>0.476190</td>\n",
       "      <td>0.184156</td>\n",
       "      <td>0.336461</td>\n",
       "      <td>0.214437</td>\n",
       "      <td>...</td>\n",
       "      <td>0.346840</td>\n",
       "      <td>0.638554</td>\n",
       "      <td>0.327910</td>\n",
       "      <td>0.141386</td>\n",
       "      <td>0.000000</td>\n",
       "      <td>0.630576</td>\n",
       "      <td>0.461285</td>\n",
       "      <td>0.523242</td>\n",
       "      <td>0.129573</td>\n",
       "      <td>0.5</td>\n",
       "    </tr>\n",
       "    <tr>\n",
       "      <th>6</th>\n",
       "      <td>67.0</td>\n",
       "      <td>0.455446</td>\n",
       "      <td>0.439560</td>\n",
       "      <td>0.0</td>\n",
       "      <td>0.0</td>\n",
       "      <td>0.884615</td>\n",
       "      <td>0.500000</td>\n",
       "      <td>0.496873</td>\n",
       "      <td>0.624665</td>\n",
       "      <td>0.380235</td>\n",
       "      <td>...</td>\n",
       "      <td>0.330779</td>\n",
       "      <td>0.566265</td>\n",
       "      <td>0.101130</td>\n",
       "      <td>0.156554</td>\n",
       "      <td>0.000000</td>\n",
       "      <td>0.519424</td>\n",
       "      <td>0.321862</td>\n",
       "      <td>0.424315</td>\n",
       "      <td>0.075956</td>\n",
       "      <td>0.6</td>\n",
       "    </tr>\n",
       "    <tr>\n",
       "      <th>7</th>\n",
       "      <td>10.0</td>\n",
       "      <td>0.485149</td>\n",
       "      <td>0.351648</td>\n",
       "      <td>0.0</td>\n",
       "      <td>0.0</td>\n",
       "      <td>1.000000</td>\n",
       "      <td>0.452381</td>\n",
       "      <td>0.434329</td>\n",
       "      <td>0.406166</td>\n",
       "      <td>0.444509</td>\n",
       "      <td>...</td>\n",
       "      <td>0.352144</td>\n",
       "      <td>0.686747</td>\n",
       "      <td>0.284310</td>\n",
       "      <td>0.189814</td>\n",
       "      <td>0.000000</td>\n",
       "      <td>0.569784</td>\n",
       "      <td>0.451164</td>\n",
       "      <td>0.473778</td>\n",
       "      <td>0.125663</td>\n",
       "      <td>0.7</td>\n",
       "    </tr>\n",
       "    <tr>\n",
       "      <th>8</th>\n",
       "      <td>210.0</td>\n",
       "      <td>0.316832</td>\n",
       "      <td>0.263736</td>\n",
       "      <td>0.0</td>\n",
       "      <td>0.0</td>\n",
       "      <td>0.923077</td>\n",
       "      <td>0.226190</td>\n",
       "      <td>0.537179</td>\n",
       "      <td>0.687668</td>\n",
       "      <td>0.381973</td>\n",
       "      <td>...</td>\n",
       "      <td>0.297038</td>\n",
       "      <td>0.843373</td>\n",
       "      <td>0.405337</td>\n",
       "      <td>0.437796</td>\n",
       "      <td>0.000000</td>\n",
       "      <td>0.617266</td>\n",
       "      <td>0.477227</td>\n",
       "      <td>0.509535</td>\n",
       "      <td>0.136275</td>\n",
       "      <td>0.5</td>\n",
       "    </tr>\n",
       "    <tr>\n",
       "      <th>9</th>\n",
       "      <td>1016.0</td>\n",
       "      <td>0.396040</td>\n",
       "      <td>0.395604</td>\n",
       "      <td>0.0</td>\n",
       "      <td>0.0</td>\n",
       "      <td>0.961538</td>\n",
       "      <td>0.357143</td>\n",
       "      <td>0.545518</td>\n",
       "      <td>0.419571</td>\n",
       "      <td>0.549701</td>\n",
       "      <td>...</td>\n",
       "      <td>0.302048</td>\n",
       "      <td>0.734940</td>\n",
       "      <td>0.315093</td>\n",
       "      <td>0.222794</td>\n",
       "      <td>0.000000</td>\n",
       "      <td>0.578058</td>\n",
       "      <td>0.455466</td>\n",
       "      <td>0.479738</td>\n",
       "      <td>0.127339</td>\n",
       "      <td>0.8</td>\n",
       "    </tr>\n",
       "  </tbody>\n",
       "</table>\n",
       "<p>10 rows × 137 columns</p>\n",
       "</div>"
      ],
      "text/plain": [
       "       V2       V29       V31  V32  V34       V35       V36       V37  \\\n",
       "0   826.0  0.504950  0.263736  0.0  0.0  0.923077  0.446429  0.587213   \n",
       "1    15.0  0.356436  0.329670  0.0  0.0  0.653846  0.523810  0.193190   \n",
       "2   242.0  0.514851  0.197802  0.0  0.0  0.846154  0.464286  0.379430   \n",
       "3  1038.0  0.554455  0.307692  0.0  0.0  0.846154  0.511905  0.330785   \n",
       "4   971.0  0.415842  0.571429  0.0  0.0  0.923077  0.309524  0.209868   \n",
       "5   170.0  0.554455  0.450549  0.0  0.0  0.961538  0.476190  0.184156   \n",
       "6    67.0  0.455446  0.439560  0.0  0.0  0.884615  0.500000  0.496873   \n",
       "7    10.0  0.485149  0.351648  0.0  0.0  1.000000  0.452381  0.434329   \n",
       "8   210.0  0.316832  0.263736  0.0  0.0  0.923077  0.226190  0.537179   \n",
       "9  1016.0  0.396040  0.395604  0.0  0.0  0.961538  0.357143  0.545518   \n",
       "\n",
       "        V38       V39  ...       V320      V321      V322      V323      V324  \\\n",
       "0  0.693029  0.419803  ...   0.506262  0.795181  0.433839  0.411634  0.000000   \n",
       "1  0.324397  0.229685  ...   0.304848  0.265060  0.086264  0.024492  0.666667   \n",
       "2  0.623324  0.280448  ...   0.312067  0.566265  0.359045  0.082382  0.000000   \n",
       "3  0.540214  0.273499  ...   0.349492  0.686747  0.329900  0.183134  0.166667   \n",
       "4  0.368633  0.228527  ...   0.500810  0.674699  0.333528  0.240050  0.000000   \n",
       "5  0.336461  0.214437  ...   0.346840  0.638554  0.327910  0.141386  0.000000   \n",
       "6  0.624665  0.380235  ...   0.330779  0.566265  0.101130  0.156554  0.000000   \n",
       "7  0.406166  0.444509  ...   0.352144  0.686747  0.284310  0.189814  0.000000   \n",
       "8  0.687668  0.381973  ...   0.297038  0.843373  0.405337  0.437796  0.000000   \n",
       "9  0.419571  0.549701  ...   0.302048  0.734940  0.315093  0.222794  0.000000   \n",
       "\n",
       "       V325      V326      V327      V328  V331  \n",
       "0  0.638849  0.648026  0.514303  0.179838   0.7  \n",
       "1  0.579496  0.410172  0.472586  0.108629   0.3  \n",
       "2  0.703597  0.530111  0.599523  0.157498   0.0  \n",
       "3  0.643165  0.616650  0.530393  0.186819   0.3  \n",
       "4  0.632014  0.414727  0.513707  0.116169   0.8  \n",
       "5  0.630576  0.461285  0.523242  0.129573   0.5  \n",
       "6  0.519424  0.321862  0.424315  0.075956   0.6  \n",
       "7  0.569784  0.451164  0.473778  0.125663   0.7  \n",
       "8  0.617266  0.477227  0.509535  0.136275   0.5  \n",
       "9  0.578058  0.455466  0.479738  0.127339   0.8  \n",
       "\n",
       "[10 rows x 137 columns]"
      ]
     },
     "execution_count": 6,
     "metadata": {},
     "output_type": "execute_result"
    }
   ],
   "source": [
    "X_train_numeric = X_train[names]\n",
    "X_test_numeric = X_test[names]\n",
    "X_train_numeric[:10]"
   ]
  },
  {
   "cell_type": "code",
   "execution_count": 8,
   "metadata": {
    "collapsed": false
   },
   "outputs": [],
   "source": [
    "imputer = Imputer(strategy='most_frequent')\n",
    "X_train_numeric = imputer.fit_transform(X_train_numeric.values)\n",
    "X_test_numeric = imputer.transform(X_test_numeric.values)"
   ]
  },
  {
   "cell_type": "markdown",
   "metadata": {},
   "source": [
    "Нормируем признаки"
   ]
  },
  {
   "cell_type": "code",
   "execution_count": 9,
   "metadata": {
    "collapsed": true
   },
   "outputs": [],
   "source": [
    "from sklearn.preprocessing import StandardScaler"
   ]
  },
  {
   "cell_type": "code",
   "execution_count": 10,
   "metadata": {
    "collapsed": true
   },
   "outputs": [],
   "source": [
    "X_train_numeric = StandardScaler().fit_transform(X_train_numeric)\n",
    "X_test_numeric = StandardScaler().fit_transform(X_test_numeric)"
   ]
  },
  {
   "cell_type": "markdown",
   "metadata": {},
   "source": [
    "Попробуем knn"
   ]
  },
  {
   "cell_type": "code",
   "execution_count": 11,
   "metadata": {
    "collapsed": true
   },
   "outputs": [],
   "source": [
    "from sklearn.neighbors import KNeighborsClassifier"
   ]
  },
  {
   "cell_type": "code",
   "execution_count": 12,
   "metadata": {
    "collapsed": true
   },
   "outputs": [],
   "source": [
    "import matplotlib.pyplot as plt"
   ]
  },
  {
   "cell_type": "code",
   "execution_count": 13,
   "metadata": {
    "collapsed": false
   },
   "outputs": [
    {
     "data": {
      "text/plain": [
       "0.28389597382439336"
      ]
     },
     "execution_count": 13,
     "metadata": {},
     "output_type": "execute_result"
    }
   ],
   "source": [
    "knn_classifier = KNeighborsClassifier(n_neighbors=200, n_jobs=-1)\n",
    "-np.mean(cross_val_score(knn_classifier, X_train, Y_train.label.values, cv=5, scoring='neg_log_loss'))"
   ]
  },
  {
   "cell_type": "markdown",
   "metadata": {},
   "source": [
    "Обучим на полной выборке:"
   ]
  },
  {
   "cell_type": "code",
   "execution_count": 11,
   "metadata": {
    "collapsed": false
   },
   "outputs": [],
   "source": [
    "knn_classifier.fit(X_train, Y_train.label.values)\n",
    "Y_test = pd.DataFrame()\n",
    "Y_test['Id'] = np.arange(X_test.shape[0])\n",
    "Y_test['kneighbors'] = knn_classifier.predict_proba(X_test)[:, 1]\n",
    "Y_test['Prediction'] = Y_test['kneighbors']"
   ]
  },
  {
   "cell_type": "code",
   "execution_count": 12,
   "metadata": {
    "collapsed": false
   },
   "outputs": [],
   "source": [
    "Y_train['kneighbors'] = knn_classifier.predict_proba(X_train)[:, 1]"
   ]
  },
  {
   "cell_type": "markdown",
   "metadata": {},
   "source": [
    "Рэндом форест:"
   ]
  },
  {
   "cell_type": "code",
   "execution_count": 13,
   "metadata": {
    "collapsed": false
   },
   "outputs": [
    {
     "data": {
      "text/plain": [
       "0.22548431399259167"
      ]
     },
     "execution_count": 13,
     "metadata": {},
     "output_type": "execute_result"
    }
   ],
   "source": [
    "rf_classifier = RandomForestClassifier(n_estimators=500, n_jobs=-1, random_state=1)\n",
    "-np.mean(cross_val_score(rf_classifier, X_train, Y_train.label.values, scoring='neg_log_loss', cv=5))"
   ]
  },
  {
   "cell_type": "code",
   "execution_count": 14,
   "metadata": {
    "collapsed": false,
    "scrolled": true
   },
   "outputs": [
    {
     "data": {
      "text/plain": [
       "RandomForestClassifier(bootstrap=True, class_weight=None, criterion='gini',\n",
       "            max_depth=None, max_features='auto', max_leaf_nodes=None,\n",
       "            min_impurity_split=1e-07, min_samples_leaf=1,\n",
       "            min_samples_split=2, min_weight_fraction_leaf=0.0,\n",
       "            n_estimators=500, n_jobs=-1, oob_score=False, random_state=1,\n",
       "            verbose=0, warm_start=False)"
      ]
     },
     "execution_count": 14,
     "metadata": {},
     "output_type": "execute_result"
    }
   ],
   "source": [
    "rf_classifier.fit(X_train, Y_train.label.values)"
   ]
  },
  {
   "cell_type": "code",
   "execution_count": 15,
   "metadata": {
    "collapsed": true
   },
   "outputs": [],
   "source": [
    "Y_train['RF_500'] = rf_classifier.predict_proba(X_train)[:, 1]\n",
    "Y_test['RF_500'] = rf_classifier.predict_proba(X_test)[:, 1]"
   ]
  },
  {
   "cell_type": "markdown",
   "metadata": {},
   "source": [
    "Смешаем knn и RF"
   ]
  },
  {
   "cell_type": "code",
   "execution_count": 17,
   "metadata": {
    "collapsed": true
   },
   "outputs": [],
   "source": [
    "from sklearn.metrics import log_loss"
   ]
  },
  {
   "cell_type": "code",
   "execution_count": 21,
   "metadata": {
    "collapsed": true
   },
   "outputs": [],
   "source": [
    "from sklearn.ensemble import VotingClassifier\n",
    "from sklearn.model_selection import KFold"
   ]
  },
  {
   "cell_type": "code",
   "execution_count": 33,
   "metadata": {
    "collapsed": false
   },
   "outputs": [
    {
     "name": "stdout",
     "output_type": "stream",
     "text": [
      "lol\n",
      "lol\n",
      "lol\n",
      "lol\n",
      "lol\n"
     ]
    }
   ],
   "source": [
    "grid = np.linspace(0, 1, 10)\n",
    "\n",
    "kf = KFold(n_splits=5, shuffle=True, random_state=1234)\n",
    "\n",
    "answers = []\n",
    "\n",
    "for train_index, test_index in kf.split(X_train):\n",
    "    first_classifier = KNeighborsClassifier(n_neighbors=200, n_jobs=-1)\n",
    "    second_classifier = RandomForestClassifier(n_estimators=500, n_jobs=-1, random_state=1)\n",
    "\n",
    "    first_classifier.fit(X_train[train_index], Y_train.label.values[train_index])\n",
    "    second_classifier.fit(X_train[train_index], Y_train.label.values[train_index])\n",
    "\n",
    "    print ('lol')\n",
    "    \n",
    "    for alpha in grid:\n",
    "        blended_classifier = VotingClassifier(estimators=[('lol', first_classifier), ('kek', second_classifier)],\n",
    "                                              voting='soft', weights=(alpha, 1 - alpha))\n",
    "        \n",
    "        blended_classifier.estimators_ = [first_classifier, second_classifier]\n",
    "\n",
    "        y_score = blended_classifier.predict_proba(X_train[test_index])\n",
    "        \n",
    "        y_score = y_score[:, 1]\n",
    "        \n",
    "        answers.append(log_loss(Y_train.label.values[test_index], y_score))"
   ]
  },
  {
   "cell_type": "code",
   "execution_count": 35,
   "metadata": {
    "collapsed": false
   },
   "outputs": [
    {
     "data": {
      "image/png": "[encoded data removed]",
      "text/plain": [
       "<matplotlib.figure.Figure at 0x7fda1990eb00>"
      ]
     },
     "metadata": {},
     "output_type": "display_data"
    }
   ],
   "source": [
    "answers = np.array(answers).reshape(5, 10)\n",
    "\n",
    "plt.figure(figsize=(15,8))\n",
    "\n",
    "plt.plot(grid, answers.mean(axis=0), label='score')\n",
    "plt.legend()\n",
    "plt.xlabel('\\alpha')\n",
    "plt.ylabel('score')\n",
    "plt.show()"
   ]
  },
  {
   "cell_type": "code",
   "execution_count": 39,
   "metadata": {
    "collapsed": true
   },
   "outputs": [],
   "source": [
    "from sklearn.model_selection import GridSearchCV"
   ]
  },
  {
   "cell_type": "code",
   "execution_count": 45,
   "metadata": {
    "collapsed": true
   },
   "outputs": [],
   "source": [
    "def search_and_draw(X, Y, algorithm, param_name, grid):\n",
    "    parameters = {param_name: grid}\n",
    "    classifier = GridSearchCV(estimator=algorithm, param_grid=parameters, cv=5, scoring='neg_log_loss', n_jobs=-1)\n",
    "    classifier.fit(X, Y)\n",
    "    \n",
    "    plt.figure(figsize=(15,8))\n",
    "    plt.title('choose ' + param_name)\n",
    "    means = classifier.cv_results_['mean_test_score']\n",
    "    error = classifier.cv_results_['std_test_score']\n",
    "\n",
    "    plt.plot(grid, means, label='mean values of score')\n",
    "    \n",
    "    plt.fill_between(grid, means - 2 * error, means + 2 * error, color='green', label='filled area between errors')\n",
    "    plt.legend()\n",
    "    plt.xlabel('parameter')\n",
    "    plt.ylabel('score')\n",
    "    plt.show()"
   ]
  },
  {
   "cell_type": "code",
   "execution_count": 47,
   "metadata": {
    "collapsed": false
   },
   "outputs": [
    {
     "data": {
      "image/png": "[encoded data removed]",
      "text/plain": [
       "<matplotlib.figure.Figure at 0x7fda4d03f390>"
      ]
     },
     "metadata": {},
     "output_type": "display_data"
    }
   ],
   "source": [
    "depth = np.arange(10) + 25\n",
    "\n",
    "search_and_draw(X_train, Y_train.label.values, RandomForestClassifier(n_estimators=100), 'max_depth', depth)"
   ]
  },
  {
   "cell_type": "code",
   "execution_count": 14,
   "metadata": {
    "collapsed": true
   },
   "outputs": [],
   "source": [
    "from sklearn.linear_model import LogisticRegression"
   ]
  },
  {
   "cell_type": "code",
   "execution_count": 15,
   "metadata": {
    "collapsed": false
   },
   "outputs": [
    {
     "data": {
      "text/plain": [
       "0.24040321005568557"
      ]
     },
     "execution_count": 15,
     "metadata": {},
     "output_type": "execute_result"
    }
   ],
   "source": [
    "linear_clf = LogisticRegression()\n",
    "-np.mean(cross_val_score(linear_clf, X_train_numeric, Y_train.label.values, scoring='neg_log_loss', cv=5))"
   ]
  },
  {
   "cell_type": "code",
   "execution_count": 17,
   "metadata": {
    "collapsed": false
   },
   "outputs": [
    {
     "data": {
      "text/plain": [
       "LogisticRegression(C=1.0, class_weight=None, dual=False, fit_intercept=True,\n",
       "          intercept_scaling=1, max_iter=100, multi_class='ovr', n_jobs=1,\n",
       "          penalty='l2', random_state=None, solver='liblinear', tol=0.0001,\n",
       "          verbose=0, warm_start=False)"
      ]
     },
     "execution_count": 17,
     "metadata": {},
     "output_type": "execute_result"
    }
   ],
   "source": [
    "linear_clf.fit(X_train_numeric, Y_train.label.values)"
   ]
  },
  {
   "cell_type": "code",
   "execution_count": 23,
   "metadata": {
    "collapsed": false
   },
   "outputs": [],
   "source": [
    "Y_test = pd.DataFrame()\n",
    "Y_test['Id'] = np.arange(X_test.shape[0])\n",
    "Y_test['Prediction'] = linear_clf.predict_proba(X_test_numeric)[:, 1]\n",
    "\n",
    "Y_test.to_csv('my_solution.csv', index=False)"
   ]
  }
 ],
 "metadata": {
  "kernelspec": {
   "display_name": "Python [Root]",
   "language": "python",
   "name": "Python [Root]"
  },
  "language_info": {
   "codemirror_mode": {
    "name": "ipython",
    "version": 3
   },
   "file_extension": ".py",
   "mimetype": "text/x-python",
   "name": "python",
   "nbconvert_exporter": "python",
   "pygments_lexer": "ipython3",
   "version": "3.5.2"
  }
 },
 "nbformat": 4,
 "nbformat_minor": 0
}
