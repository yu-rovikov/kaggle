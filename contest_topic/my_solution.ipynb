{
 "cells": [
  {
   "cell_type": "code",
   "execution_count": 1,
   "metadata": {
    "collapsed": false
   },
   "outputs": [
    {
     "name": "stdout",
     "output_type": "stream",
     "text": [
      "Populating the interactive namespace from numpy and matplotlib\n"
     ]
    }
   ],
   "source": [
    "%pylab inline\n",
    "import numpy as np\n",
    "import warnings\n",
    "\n",
    "from scipy import sparse\n",
    "\n",
    "from sklearn.metrics import f1_score, make_scorer\n",
    "from sklearn.model_selection import GridSearchCV\n",
    "from sklearn.base import BaseEstimator, ClassifierMixin\n",
    "from sklearn.neighbors import KNeighborsClassifier\n",
    "from sklearn.multiclass import OneVsRestClassifier\n",
    "from sklearn.model_selection import train_test_split\n",
    "from sklearn.linear_model import LogisticRegression\n",
    "\n",
    "warnings.filterwarnings('ignore')"
   ]
  },
  {
   "cell_type": "code",
   "execution_count": 2,
   "metadata": {
    "collapsed": false
   },
   "outputs": [],
   "source": [
    "from sklearn.svm import SVC"
   ]
  },
  {
   "cell_type": "code",
   "execution_count": 3,
   "metadata": {
    "collapsed": true
   },
   "outputs": [],
   "source": [
    "from sklearn.model_selection import cross_val_score"
   ]
  },
  {
   "cell_type": "code",
   "execution_count": 4,
   "metadata": {
    "collapsed": true
   },
   "outputs": [],
   "source": [
    "from sklearn.linear_model import Lasso"
   ]
  },
  {
   "cell_type": "code",
   "execution_count": 5,
   "metadata": {
    "collapsed": true
   },
   "outputs": [],
   "source": [
    "import matplotlib.pyplot as plt\n",
    "plt.rcParams[\"figure.figsize\"] = (15, 8)"
   ]
  },
  {
   "cell_type": "code",
   "execution_count": 6,
   "metadata": {
    "collapsed": true
   },
   "outputs": [],
   "source": [
    "def read_data_from_file(filename, shape):\n",
    "    values = list()\n",
    "    rows = list()\n",
    "    cols = list()\n",
    "    \n",
    "    header = True\n",
    "    for line in open(filename):\n",
    "        if header:\n",
    "            header = False\n",
    "            continue\n",
    "        row, col, value = [x for x in line.strip().split(',')]\n",
    "        row, col = int(row), int(col)\n",
    "        value = float(value)\n",
    "        row -= 1\n",
    "        col -= 1\n",
    "        values.append(value)\n",
    "        rows.append(row)\n",
    "        cols.append(col)\n",
    "        \n",
    "    return sparse.csr_matrix((values, (rows, cols)), shape=shape)"
   ]
  },
  {
   "cell_type": "code",
   "execution_count": 7,
   "metadata": {
    "collapsed": false
   },
   "outputs": [
    {
     "name": "stdout",
     "output_type": "stream",
     "text": [
      "(15000, 30000) (15000, 30000)\n"
     ]
    }
   ],
   "source": [
    "X_train = read_data_from_file('X_train.csv', (15000, 30000)).astype(float)\n",
    "X_test = read_data_from_file('X_test.csv', (15000, 30000)).astype(float)\n",
    "print (X_train.shape, X_test.shape)"
   ]
  },
  {
   "cell_type": "code",
   "execution_count": 8,
   "metadata": {
    "collapsed": true
   },
   "outputs": [],
   "source": [
    "from sklearn.preprocessing import scale\n",
    "\n",
    "X_all = sparse.vstack([X_train, X_test])\n",
    "X_all = scale(X_all, with_mean=False)\n",
    "X_train = X_all[:15000, :]\n",
    "X_test = X_all[15000:, :]\n",
    "\n",
    "del X_all"
   ]
  },
  {
   "cell_type": "code",
   "execution_count": 9,
   "metadata": {
    "collapsed": true
   },
   "outputs": [],
   "source": [
    "def read_labels_from_file(filename, shape):\n",
    "    labels = np.zeros(shape).astype(int)\n",
    "\n",
    "    header = True\n",
    "    for line in open(filename):\n",
    "        if header:\n",
    "            header = False\n",
    "            continue\n",
    "        row, indeces = line.strip().split(',')\n",
    "        row = int(row) - 1\n",
    "        indeces = [int(x) - 1 for x in indeces.split()]\n",
    "        labels[row, indeces] = 1\n",
    "    \n",
    "    return labels"
   ]
  },
  {
   "cell_type": "code",
   "execution_count": 10,
   "metadata": {
    "collapsed": false
   },
   "outputs": [],
   "source": [
    "y_train = read_labels_from_file('y_train.csv', (15000, 98))\n"
   ]
  },
  {
   "cell_type": "code",
   "execution_count": 11,
   "metadata": {
    "collapsed": true
   },
   "outputs": [],
   "source": [
    "def write_labels_to_file(labels, filename):\n",
    "    outfile = open(filename, 'w')\n",
    "    print(\"Id,Labels\", file=outfile)\n",
    "    for i, line in enumerate(labels):\n",
    "        elements = [str(x) for x in list(nonzero(line)[0] + 1)]\n",
    "        \n",
    "        print(\"%d,%s\" % (i + 1, ' '.join(elements)), file=outfile)"
   ]
  },
  {
   "cell_type": "markdown",
   "metadata": {},
   "source": [
    "## Моё решение (как Бейзлайн)"
   ]
  },
  {
   "cell_type": "code",
   "execution_count": 33,
   "metadata": {
    "collapsed": true
   },
   "outputs": [],
   "source": [
    "def classify_one_label(X_train, y_train, X_test):\n",
    "    classifier = LogisticRegression()\n",
    "    classifier.fit(X_train, y_train)\n",
    "    return classifier.predict(X_test)"
   ]
  },
  {
   "cell_type": "code",
   "execution_count": 14,
   "metadata": {
    "collapsed": true
   },
   "outputs": [],
   "source": [
    "y_test = np.empty(shape=(X_test.shape[0], 0))"
   ]
  },
  {
   "cell_type": "code",
   "execution_count": 36,
   "metadata": {
    "collapsed": false
   },
   "outputs": [],
   "source": [
    "for i in range(y_train.shape[1]):\n",
    "    y_test = np.append(y_test, classify_one_label(\n",
    "            X_train, y_train[:, i], X_test).reshape(y_test.shape[0], 1), axis=1)"
   ]
  },
  {
   "cell_type": "code",
   "execution_count": 40,
   "metadata": {
    "collapsed": false
   },
   "outputs": [],
   "source": [
    "write_labels_to_file(y_test, 'y_test.csv')"
   ]
  },
  {
   "cell_type": "markdown",
   "metadata": {},
   "source": [
    "## Пара функций для грид-серч (не работают)"
   ]
  },
  {
   "cell_type": "code",
   "execution_count": 18,
   "metadata": {
    "collapsed": false
   },
   "outputs": [],
   "source": [
    "def make_svc(X_train, y_train, X_test):\n",
    "    algorithm=SVC()\n",
    "    grid = np.array((0.01, 0.1))\n",
    "    parameters = {'C': grid}\n",
    "    classifier = GridSearchCV(estimator=algorithm, param_grid=parameters, cv=5, \n",
    "                              scoring=make_scorer(f1_score, average='samples'), \n",
    "                              n_jobs=-1)\n",
    "    classifier.fit(X_train, y_train)\n",
    "    plt.figure()\n",
    "    plt.title('choose alpha')\n",
    "    \n",
    "    means = classifier.cv_results_['mean_test_score']\n",
    "    \n",
    "    plt.xscale('log')\n",
    "\n",
    "    plt.plot(grid, means, label='mean values of score')\n",
    "    \n",
    "    plt.legend()\n",
    "    plt.show()"
   ]
  },
  {
   "cell_type": "code",
   "execution_count": 79,
   "metadata": {
    "collapsed": false
   },
   "outputs": [],
   "source": [
    "def make_lasso(X_train, y_train, X_test):\n",
    "    algorithm = Lasso()\n",
    "    #grid = np.array((0.01, 0.02, 0.05, 0.1, 0.2, 0.5, 1., 2., 5., 10.))\n",
    "    grid = np.array((0.01, 0.1))\n",
    "    parameters = {'alpha': grid}\n",
    "    \n",
    "    classifier = GridSearchCV(estimator=algorithm, param_grid=parameters, cv=5, \n",
    "                              scoring='roc_auc', n_jobs=-1)\n",
    "    classifier.fit(X_train, y_train)\n",
    "    plt.figure()\n",
    "    plt.title('choose alpha')\n",
    "    \n",
    "    means = classifier.cv_results_['mean_test_score']\n",
    "    \n",
    "    plt.xscale('log')\n",
    "\n",
    "    plt.plot(grid, means, label='mean values of score')\n",
    "    \n",
    "    plt.legend()\n",
    "    plt.show()"
   ]
  },
  {
   "cell_type": "code",
   "execution_count": null,
   "metadata": {
    "collapsed": true
   },
   "outputs": [],
   "source": []
  },
  {
   "cell_type": "markdown",
   "metadata": {},
   "source": [
    "## Здесь мы стараемся сократить количество признаков с помощью Лассо."
   ]
  },
  {
   "cell_type": "code",
   "execution_count": 37,
   "metadata": {
    "collapsed": true
   },
   "outputs": [],
   "source": [
    "y_test = np.empty(shape=(X_test.shape[0], 0))"
   ]
  },
  {
   "cell_type": "code",
   "execution_count": 48,
   "metadata": {
    "collapsed": true
   },
   "outputs": [],
   "source": [
    "def classify_one_label_lasso(X_train, y_train, X_test): \n",
    "    algorithm = Lasso(alpha=0.01)\n",
    "    algorithm.fit(X_train, y_train)\n",
    "    valid_indices = np.nonzero(algorithm.coef_)[0]\n",
    "    if valid_indices.size == 0:\n",
    "        valid_indices = np.arange(X_train.shape[1])\n",
    "    clf = LogisticRegression()\n",
    "    clf.fit(X_train[:, valid_indices], y_train)\n",
    "    \n",
    "    return clf.predict(X_test[:, valid_indices])"
   ]
  },
  {
   "cell_type": "code",
   "execution_count": 49,
   "metadata": {
    "collapsed": false
   },
   "outputs": [],
   "source": [
    "for i in range(y_train.shape[1]):\n",
    "    y_test = np.append(y_test, classify_one_label_lasso(\n",
    "            X_train, y_train[:, i], X_test).reshape(y_test.shape[0], 1), axis=1)"
   ]
  },
  {
   "cell_type": "code",
   "execution_count": 51,
   "metadata": {
    "collapsed": true
   },
   "outputs": [],
   "source": [
    "write_labels_to_file(y_test, 'y_test.csv')"
   ]
  },
  {
   "cell_type": "markdown",
   "metadata": {},
   "source": [
    "## Поправим немного"
   ]
  },
  {
   "cell_type": "code",
   "execution_count": 62,
   "metadata": {
    "collapsed": true
   },
   "outputs": [],
   "source": [
    "def classify_one_label_lasso_upgraded(X_train, y_train, X_test): \n",
    "    algorithm = Lasso(alpha=0.01)\n",
    "    algorithm.fit(X_train, y_train)\n",
    "    valid_indices = np.nonzero(algorithm.coef_)[0]\n",
    "    if valid_indices.size < 1000:\n",
    "        algorithm = Lasso(alpha=0.001)\n",
    "        algorithm.fit(X_train, y_train)\n",
    "        valid_indices = np.nonzero(algorithm.coef_)[0]\n",
    "        if valid_indices.size < 1000:\n",
    "            algorithm = Lasso(alpha=0.0001)\n",
    "            algorithm.fit(X_train, y_train)\n",
    "            valid_indices = np.nonzero(algorithm.coef_)[0]\n",
    "            if valid_indices.size < 1000:\n",
    "                valid_indices = np.arange(X_train.shape[1])\n",
    "                \n",
    "    print(valid_indices.size, \"\\n\")\n",
    "    clf = LogisticRegression()\n",
    "    clf.fit(X_train[:, valid_indices], y_train)\n",
    "    \n",
    "    return clf.predict(X_test[:, valid_indices])"
   ]
  },
  {
   "cell_type": "code",
   "execution_count": 63,
   "metadata": {
    "collapsed": false
   },
   "outputs": [
    {
     "name": "stdout",
     "output_type": "stream",
     "text": [
      "4085 \n",
      "\n",
      "4643 \n",
      "\n",
      "2359 \n",
      "\n",
      "2277 \n",
      "\n",
      "6899 \n",
      "\n",
      "30000 \n",
      "\n",
      "1491 \n",
      "\n",
      "1182 \n",
      "\n",
      "1202 \n",
      "\n",
      "1005 \n",
      "\n",
      "1590 \n",
      "\n",
      "2400 \n",
      "\n",
      "4569 \n",
      "\n",
      "1579 \n",
      "\n",
      "9183 \n",
      "\n",
      "1762 \n",
      "\n",
      "1168 \n",
      "\n",
      "6668 \n",
      "\n",
      "6151 \n",
      "\n",
      "2868 \n",
      "\n",
      "1237 \n",
      "\n",
      "6935 \n",
      "\n",
      "1472 \n",
      "\n",
      "30000 \n",
      "\n",
      "3908 \n",
      "\n",
      "7876 \n",
      "\n",
      "2437 \n",
      "\n",
      "6697 \n",
      "\n",
      "1676 \n",
      "\n",
      "30000 \n",
      "\n",
      "2100 \n",
      "\n",
      "1402 \n",
      "\n",
      "30000 \n",
      "\n",
      "6602 \n",
      "\n",
      "1013 \n",
      "\n",
      "4145 \n",
      "\n",
      "2100 \n",
      "\n",
      "1102 \n",
      "\n",
      "30000 \n",
      "\n",
      "3276 \n",
      "\n",
      "1828 \n",
      "\n",
      "1237 \n",
      "\n",
      "1084 \n",
      "\n",
      "5346 \n",
      "\n",
      "3366 \n",
      "\n",
      "30000 \n",
      "\n",
      "1387 \n",
      "\n",
      "5937 \n",
      "\n",
      "30000 \n",
      "\n",
      "4723 \n",
      "\n",
      "1482 \n",
      "\n",
      "1028 \n",
      "\n",
      "1424 \n",
      "\n",
      "30000 \n",
      "\n",
      "4239 \n",
      "\n",
      "1471 \n",
      "\n",
      "30000 \n",
      "\n",
      "1384 \n",
      "\n",
      "3493 \n",
      "\n",
      "1852 \n",
      "\n",
      "30000 \n",
      "\n",
      "1679 \n",
      "\n",
      "30000 \n",
      "\n",
      "2239 \n",
      "\n",
      "3405 \n",
      "\n",
      "30000 \n",
      "\n",
      "30000 \n",
      "\n",
      "1431 \n",
      "\n",
      "30000 \n",
      "\n",
      "1960 \n",
      "\n",
      "3550 \n",
      "\n",
      "30000 \n",
      "\n",
      "30000 \n",
      "\n",
      "30000 \n",
      "\n",
      "30000 \n",
      "\n",
      "30000 \n",
      "\n",
      "30000 \n",
      "\n",
      "30000 \n",
      "\n",
      "1452 \n",
      "\n",
      "30000 \n",
      "\n",
      "30000 \n",
      "\n",
      "30000 \n",
      "\n",
      "30000 \n",
      "\n",
      "30000 \n",
      "\n",
      "30000 \n",
      "\n",
      "30000 \n",
      "\n",
      "30000 \n",
      "\n",
      "30000 \n",
      "\n",
      "30000 \n",
      "\n",
      "30000 \n",
      "\n",
      "30000 \n",
      "\n",
      "30000 \n",
      "\n",
      "30000 \n",
      "\n",
      "30000 \n",
      "\n",
      "30000 \n",
      "\n",
      "30000 \n",
      "\n",
      "30000 \n",
      "\n",
      "30000 \n",
      "\n"
     ]
    }
   ],
   "source": [
    "for i in range(y_train.shape[1]):\n",
    "    y_test = np.append(y_test, classify_one_label_lasso_upgraded(\n",
    "            X_train, y_train[:, i], X_test).reshape(y_test.shape[0], 1), axis=1)"
   ]
  },
  {
   "cell_type": "code",
   "execution_count": 64,
   "metadata": {
    "collapsed": true
   },
   "outputs": [],
   "source": [
    "write_labels_to_file(y_test, 'y_test.csv')"
   ]
  },
  {
   "cell_type": "code",
   "execution_count": null,
   "metadata": {
    "collapsed": true
   },
   "outputs": [],
   "source": []
  }
 ],
 "metadata": {
  "anaconda-cloud": {},
  "kernelspec": {
   "display_name": "Python [Root]",
   "language": "python",
   "name": "Python [Root]"
  },
  "language_info": {
   "codemirror_mode": {
    "name": "ipython",
    "version": 3
   },
   "file_extension": ".py",
   "mimetype": "text/x-python",
   "name": "python",
   "nbconvert_exporter": "python",
   "pygments_lexer": "ipython3",
   "version": "3.5.2"
  }
 },
 "nbformat": 4,
 "nbformat_minor": 0
}
