{
 "cells": [
  {
   "cell_type": "markdown",
   "metadata": {},
   "source": [
    "Загружаем необходимые библиотеки"
   ]
  },
  {
   "cell_type": "code",
   "execution_count": 1,
   "metadata": {
    "collapsed": false
   },
   "outputs": [
    {
     "name": "stdout",
     "output_type": "stream",
     "text": [
      "Populating the interactive namespace from numpy and matplotlib\n"
     ]
    }
   ],
   "source": [
    "%pylab inline\n",
    "import numpy as np\n",
    "import warnings\n",
    "\n",
    "from scipy import sparse\n",
    "\n",
    "from sklearn.metrics import f1_score, make_scorer\n",
    "from sklearn.model_selection import GridSearchCV\n",
    "from sklearn.base import BaseEstimator, ClassifierMixin\n",
    "from sklearn.neighbors import KNeighborsClassifier\n",
    "from sklearn.multiclass import OneVsRestClassifier\n",
    "from sklearn.model_selection import train_test_split\n",
    "from sklearn.linear_model import LogisticRegression\n",
    "\n",
    "warnings.filterwarnings('ignore')"
   ]
  },
  {
   "cell_type": "code",
   "execution_count": 2,
   "metadata": {
    "collapsed": true
   },
   "outputs": [],
   "source": [
    "import matplotlib.pyplot as plt\n",
    "plt.rcParams[\"figure.figsize\"] = (20, 10)"
   ]
  },
  {
   "cell_type": "markdown",
   "metadata": {},
   "source": [
    "Выключаем предупреждения вида \n",
    "```\n",
    "UserWarning: Label not 83 is present in all training examples.\n",
    "```\n",
    "Такие сообщения возникают, если в данных не представлен какой-либо класс. Это будет происходит при кросс-валидации."
   ]
  },
  {
   "cell_type": "markdown",
   "metadata": {},
   "source": [
    "## Подготовка данных"
   ]
  },
  {
   "cell_type": "markdown",
   "metadata": {},
   "source": [
    "Напишем функцию для считывания данных в разреженную матрицу."
   ]
  },
  {
   "cell_type": "code",
   "execution_count": 3,
   "metadata": {
    "collapsed": false
   },
   "outputs": [],
   "source": [
    "def read_data_from_file(filename, shape):\n",
    "    values = list()\n",
    "    rows = list()\n",
    "    cols = list()\n",
    "    \n",
    "    header = True\n",
    "    for line in open(filename):\n",
    "        if header:\n",
    "            header = False\n",
    "            continue\n",
    "        row, col, value = [x for x in line.strip().split(',')]\n",
    "        row, col = int(row), int(col)\n",
    "        value = float(value)\n",
    "        row -= 1\n",
    "        col -= 1\n",
    "        values.append(value)\n",
    "        rows.append(row)\n",
    "        cols.append(col)\n",
    "        \n",
    "    return sparse.csr_matrix((values, (rows, cols)), shape=shape)"
   ]
  },
  {
   "cell_type": "markdown",
   "metadata": {},
   "source": [
    "Считаем данные"
   ]
  },
  {
   "cell_type": "code",
   "execution_count": 5,
   "metadata": {
    "collapsed": false
   },
   "outputs": [
    {
     "name": "stdout",
     "output_type": "stream",
     "text": [
      "(15000, 30000) (15000, 30000)\n"
     ]
    }
   ],
   "source": [
    "X_train = read_data_from_file('X_train.csv', (15000, 30000)).astype(float)\n",
    "X_test = read_data_from_file('X_test.csv', (15000, 30000)).astype(float)\n",
    "print (X_train.shape, X_test.shape)"
   ]
  },
  {
   "cell_type": "markdown",
   "metadata": {},
   "source": [
    "Нормируем признаки"
   ]
  },
  {
   "cell_type": "code",
   "execution_count": 6,
   "metadata": {
    "collapsed": false
   },
   "outputs": [],
   "source": [
    "from sklearn.preprocessing import scale\n",
    "\n",
    "X_all = sparse.vstack([X_train, X_test])\n",
    "X_all = scale(X_all, with_mean=False)\n",
    "X_train = X_all[:15000, :]\n",
    "X_test = X_all[15000:, :]\n",
    "\n",
    "del X_all"
   ]
  },
  {
   "cell_type": "markdown",
   "metadata": {},
   "source": [
    "Напишем функцию для считывания меток"
   ]
  },
  {
   "cell_type": "code",
   "execution_count": 7,
   "metadata": {
    "collapsed": false
   },
   "outputs": [],
   "source": [
    "def read_labels_from_file(filename, shape):\n",
    "    labels = np.zeros(shape).astype(int)\n",
    "\n",
    "    header = True\n",
    "    for line in open(filename):\n",
    "        if header:\n",
    "            header = False\n",
    "            continue\n",
    "        row, indeces = line.strip().split(',')\n",
    "        row = int(row) - 1\n",
    "        indeces = [int(x) - 1 for x in indeces.split()]\n",
    "        labels[row, indeces] = 1\n",
    "    \n",
    "    return labels"
   ]
  },
  {
   "cell_type": "markdown",
   "metadata": {},
   "source": [
    "Считаем истинные метки"
   ]
  },
  {
   "cell_type": "code",
   "execution_count": 9,
   "metadata": {
    "collapsed": false
   },
   "outputs": [
    {
     "name": "stdout",
     "output_type": "stream",
     "text": [
      "(15000, 98)\n"
     ]
    }
   ],
   "source": [
    "y_train = read_labels_from_file('y_train.csv', (15000, 98))\n",
    "print (y_train.shape)"
   ]
  },
  {
   "cell_type": "markdown",
   "metadata": {},
   "source": [
    "И, наконец, напишем функция для вывода меток в нужном формате"
   ]
  },
  {
   "cell_type": "code",
   "execution_count": 11,
   "metadata": {
    "collapsed": false
   },
   "outputs": [],
   "source": [
    "def write_labels_to_file(labels, filename):\n",
    "    outfile = open(filename, 'w')\n",
    "    print >> outfile, \"Id,Labels\"\n",
    "    for i, line in enumerate(labels):\n",
    "        elements = [str(x) for x in list(nonzero(line)[0] + 1)]\n",
    "        \n",
    "        print >> outfile, \"%d,%s\" % (i + 1, ' '.join(elements))"
   ]
  },
  {
   "cell_type": "markdown",
   "metadata": {},
   "source": [
    "## KNN baseline"
   ]
  },
  {
   "cell_type": "markdown",
   "metadata": {},
   "source": [
    "В качестве бейзлайна воспользуемся методом ближайшего соседа. Подберем оптимальное число соседей в соответствии с требуемой метрикой."
   ]
  },
  {
   "cell_type": "code",
   "execution_count": null,
   "metadata": {
    "collapsed": false
   },
   "outputs": [],
   "source": [
    "clf = KNeighborsClassifier(weights='distance')\n",
    "params = {'n_neighbors': np.logspace(0, 2, 5).astype(int)}\n",
    "\n",
    "grid_searcher = GridSearchCV(\n",
    "        clf,\n",
    "        params,\n",
    "        scoring=make_scorer(f1_score, average='samples'),\n",
    "        cv=5\n",
    ")\n",
    "\n",
    "grid_searcher.fit(X_train, y_train)"
   ]
  },
  {
   "cell_type": "markdown",
   "metadata": {},
   "source": [
    "Напишем вспомогательную функцию для визуализации результатов"
   ]
  },
  {
   "cell_type": "code",
   "execution_count": 10,
   "metadata": {
    "collapsed": false
   },
   "outputs": [],
   "source": [
    "def plot_grid_searcher_results(grid_seacher, log_scale):\n",
    "    means = list()\n",
    "    param_values = list()\n",
    "\n",
    "    for score in grid_searcher.grid_scores_:\n",
    "        print score.cv_validation_scores\n",
    "        means.append(score.mean_validation_score)\n",
    "        param_values.append(score.parameters.values()[0])\n",
    "\n",
    "    parameter_name = grid_searcher.grid_scores_[0].parameters.keys()[0]\n",
    "    means = np.array(means)\n",
    "    \n",
    "    plot(param_values, means)\n",
    "    if log_scale:\n",
    "        xscale('log')\n",
    "    xlabel(parameter_name)\n",
    "    ylabel('Quality')"
   ]
  },
  {
   "cell_type": "markdown",
   "metadata": {},
   "source": [
    "Визуализируем качество работы алгоритма в зависимости от числа соседей"
   ]
  },
  {
   "cell_type": "code",
   "execution_count": 11,
   "metadata": {
    "collapsed": false
   },
   "outputs": [
    {
     "name": "stdout",
     "output_type": "stream",
     "text": [
      "[ 0.17516349  0.20506032  0.19978889  0.20208889  0.17111746]\n",
      "[ 0.07706667  0.09141111  0.09285556  0.10145556  0.07095556]\n",
      "[ 0.00937778  0.01782222  0.01397778  0.02093333  0.0095    ]\n",
      "[ 0.00266667  0.00388889  0.00482222  0.0066      0.00255556]\n",
      "[ 0.00133333  0.00133333  0.0016      0.0026      0.00133333]\n"
     ]
    },
    {
     "data": {
      "image/png": "[encoded data removed]",
      "text/plain": [
       "<matplotlib.figure.Figure at 0x7f7bed246310>"
      ]
     },
     "metadata": {},
     "output_type": "display_data"
    }
   ],
   "source": [
    "plot_grid_searcher_results(grid_searcher, log_scale=True)"
   ]
  },
  {
   "cell_type": "markdown",
   "metadata": {},
   "source": [
    "Видно, что оптимум достигается при малом числе соседей. Посмотрим  ближе на интересующий нас кусок графика."
   ]
  },
  {
   "cell_type": "code",
   "execution_count": 12,
   "metadata": {
    "collapsed": false
   },
   "outputs": [
    {
     "name": "stdout",
     "output_type": "stream",
     "text": [
      "[ 0.17516349  0.20506032  0.19978889  0.20208889  0.17111746]\n",
      "[ 0.17483016  0.20506032  0.19978889  0.20208889  0.17111746]\n",
      "[ 0.07706667  0.09141111  0.09285556  0.10145556  0.07095556]\n",
      "[ 0.07946667  0.08521111  0.08474444  0.09351111  0.06967778]\n"
     ]
    },
    {
     "data": {
      "image/png": "[encoded data removed]",
      "text/plain": [
       "<matplotlib.figure.Figure at 0x7f7bed246110>"
      ]
     },
     "metadata": {},
     "output_type": "display_data"
    }
   ],
   "source": [
    "params = {'n_neighbors': range(1, 5)},\n",
    "\n",
    "grid_searcher = GridSearchCV(\n",
    "        clf,\n",
    "        params,\n",
    "        scoring=make_scorer(f1_score, average='samples'),\n",
    "        cv=5\n",
    ")\n",
    "\n",
    "grid_searcher.fit(X_train, y_train)\n",
    "plot_grid_searcher_results(grid_searcher, log_scale=False)"
   ]
  },
  {
   "cell_type": "markdown",
   "metadata": {},
   "source": [
    "Видно, что оптимум достигается при значениях равных 1 или 2, мы возьмём 1."
   ]
  },
  {
   "cell_type": "markdown",
   "metadata": {},
   "source": [
    "Обучимся на произвольной трети объектов (чтобы сократить время обучения) и сохраним результат в файл."
   ]
  },
  {
   "cell_type": "code",
   "execution_count": 13,
   "metadata": {
    "collapsed": false
   },
   "outputs": [
    {
     "name": "stdout",
     "output_type": "stream",
     "text": [
      "(5100, 30000)\n",
      "(5100, 98)\n"
     ]
    }
   ],
   "source": [
    "X_train_sampled, _, y_train_sampled, _ = train_test_split(X_train, y_train, test_size=0.66, random_state=0)\n",
    "print X_train_sampled.shape\n",
    "print y_train_sampled.shape\n",
    "\n",
    "clf = KNeighborsClassifier(n_neighbors=1)\n",
    "clf.fit(X_train_sampled, y_train_sampled)\n",
    "y_test_knn = clf.predict(X_test)\n",
    "\n",
    "write_labels_to_file(y_test_knn, 'y_test_knn.csv')"
   ]
  },
  {
   "cell_type": "markdown",
   "metadata": {},
   "source": [
    "## LR baseline"
   ]
  },
  {
   "cell_type": "markdown",
   "metadata": {},
   "source": [
    "Оценим качество в зависимости от параметра регуляризации"
   ]
  },
  {
   "cell_type": "code",
   "execution_count": 14,
   "metadata": {
    "collapsed": false
   },
   "outputs": [
    {
     "data": {
      "text/plain": [
       "GridSearchCV(cv=5, error_score='raise',\n",
       "       estimator=OneVsRestClassifier(estimator=LogisticRegression(C=1.0, class_weight=None, dual=False, fit_intercept=True,\n",
       "          intercept_scaling=1, max_iter=100, multi_class='ovr', n_jobs=1,\n",
       "          penalty='l2', random_state=None, solver='liblinear', tol=0.0001,\n",
       "          verbose=0, warm_start=False),\n",
       "          n_jobs=1),\n",
       "       fit_params={}, iid=True, n_jobs=1,\n",
       "       param_grid=({'estimator__C': array([  1.00000e-05,   3.16228e-03,   1.00000e+00,   3.16228e+02,\n",
       "         1.00000e+05])},),\n",
       "       pre_dispatch='2*n_jobs', refit=True, return_train_score=True,\n",
       "       scoring=make_scorer(f1_score, average=samples), verbose=0)"
      ]
     },
     "execution_count": 14,
     "metadata": {},
     "output_type": "execute_result"
    }
   ],
   "source": [
    "params = {'estimator__C': np.logspace(-5, 5, 5)},\n",
    "\n",
    "clf = OneVsRestClassifier(LogisticRegression())\n",
    "\n",
    "grid_searcher = GridSearchCV(\n",
    "        clf,\n",
    "        params,\n",
    "        scoring=make_scorer(f1_score, average='samples'),\n",
    "        cv=5\n",
    ")\n",
    "\n",
    "grid_searcher.fit(X_train, y_train)"
   ]
  },
  {
   "cell_type": "markdown",
   "metadata": {},
   "source": [
    "Визуализируем зависимость качества от регуляризации"
   ]
  },
  {
   "cell_type": "code",
   "execution_count": 15,
   "metadata": {
    "collapsed": false
   },
   "outputs": [
    {
     "name": "stdout",
     "output_type": "stream",
     "text": [
      "[ 0.012       0.01827778  0.01911111  0.01617778  0.01727778]\n",
      "[ 0.26772222  0.28839524  0.30769524  0.31254603  0.27094127]\n",
      "[ 0.30994444  0.35085238  0.34671746  0.36735714  0.31738571]\n",
      "[ 0.30760317  0.34440952  0.33458968  0.35829921  0.32420714]\n",
      "[ 0.30205748  0.33565108  0.33240847  0.35022884  0.31906854]\n"
     ]
    },
    {
     "data": {
      "image/png": "[encoded data removed]",
      "text/plain": [
       "<matplotlib.figure.Figure at 0x7f7b75cb3c50>"
      ]
     },
     "metadata": {},
     "output_type": "display_data"
    }
   ],
   "source": [
    "plot_grid_searcher_results(grid_searcher, log_scale=True)"
   ]
  },
  {
   "cell_type": "markdown",
   "metadata": {},
   "source": [
    "Видно, что наиболее удачным оказывается значение $C = 1$. Обучим классификатор на всех данных и сохраним результат в файл."
   ]
  },
  {
   "cell_type": "code",
   "execution_count": 16,
   "metadata": {
    "collapsed": false
   },
   "outputs": [],
   "source": [
    "clf.fit(X_train, y_train)\n",
    "y_test_lr = clf.predict(X_test)\n",
    "write_labels_to_file(y_test_lr, 'y_test_lr.csv')"
   ]
  }
 ],
 "metadata": {
  "kernelspec": {
   "display_name": "Python [Root]",
   "language": "python",
   "name": "Python [Root]"
  },
  "language_info": {
   "codemirror_mode": {
    "name": "ipython",
    "version": 3
   },
   "file_extension": ".py",
   "mimetype": "text/x-python",
   "name": "python",
   "nbconvert_exporter": "python",
   "pygments_lexer": "ipython3",
   "version": "3.5.2"
  }
 },
 "nbformat": 4,
 "nbformat_minor": 0
}
