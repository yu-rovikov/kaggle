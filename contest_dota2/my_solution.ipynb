{
 "cells": [
  {
   "cell_type": "code",
   "execution_count": 1,
   "metadata": {
    "collapsed": true
   },
   "outputs": [],
   "source": [
    "import pandas as pd\n",
    "import numpy as np\n",
    "\n",
    "from sklearn.model_selection import cross_val_score\n",
    "from sklearn.ensemble import RandomForestClassifier"
   ]
  },
  {
   "cell_type": "code",
   "execution_count": 2,
   "metadata": {
    "collapsed": false
   },
   "outputs": [],
   "source": [
    "train_matches = pd.read_csv('train.csv')\n",
    "test_matches = pd.read_csv('test.csv')\n",
    "gold = pd.read_csv('gold.csv')\n",
    "xp = pd.read_csv('xp.csv')"
   ]
  },
  {
   "cell_type": "code",
   "execution_count": 3,
   "metadata": {
    "collapsed": false
   },
   "outputs": [],
   "source": [
    "final_gold = gold[gold.times == 600]\n",
    "final_gold = final_gold.drop('times', 1)"
   ]
  },
  {
   "cell_type": "markdown",
   "metadata": {},
   "source": [
    "## Отсортируем участников по количеству денег."
   ]
  },
  {
   "cell_type": "code",
   "execution_count": 4,
   "metadata": {
    "collapsed": false
   },
   "outputs": [],
   "source": [
    "rad_sorted_gold = final_gold[['player_0', 'player_1', 'player_2', 'player_3', 'player_4']].values\n",
    "rad_sorted_gold = np.sort(rad_sorted_gold, axis=1)\n",
    "mids = final_gold['mid'].values\n",
    "mids = mids.reshape(mids.size, 1)\n",
    "rad_sorted_gold = np.append(mids, rad_sorted_gold, axis=1)\n",
    "\n",
    "rad_sorted_gold = pd.DataFrame(rad_sorted_gold, final_gold.index, \n",
    "                           ['mid', 'player_0', 'player_1', 'player_2', 'player_3', 'player_4'])"
   ]
  },
  {
   "cell_type": "code",
   "execution_count": 5,
   "metadata": {
    "collapsed": false
   },
   "outputs": [],
   "source": [
    "dire_sorted_gold = final_gold[['player_5', 'player_6', 'player_7', 'player_8', 'player_9']].values\n",
    "dire_sorted_gold = np.sort(dire_sorted_gold, axis=1)\n",
    "mids = final_gold['mid'].values\n",
    "mids = mids.reshape(mids.size, 1)\n",
    "dire_sorted_gold = np.append(mids, dire_sorted_gold, axis=1)\n",
    "\n",
    "dire_sorted_gold = pd.DataFrame(dire_sorted_gold, final_gold.index, \n",
    "                           ['mid', 'player_5', 'player_6', 'player_7', 'player_8', 'player_9'])"
   ]
  },
  {
   "cell_type": "markdown",
   "metadata": {},
   "source": [
    "## Вставим отсортированные данные вместо старых."
   ]
  },
  {
   "cell_type": "code",
   "execution_count": 6,
   "metadata": {
    "collapsed": false
   },
   "outputs": [],
   "source": [
    "final_gold = final_gold.drop(['player_0', 'player_1', 'player_2', 'player_3', 'player_4', \n",
    "                  'player_5', 'player_6', 'player_7', 'player_8', 'player_9'], 1)\n",
    "final_gold = pd.merge(final_gold, rad_sorted_gold, on='mid')\n",
    "final_gold = pd.merge(final_gold, dire_sorted_gold, on='mid')"
   ]
  },
  {
   "cell_type": "markdown",
   "metadata": {},
   "source": [
    "## Теперь сделаем всё то же самое без изменений."
   ]
  },
  {
   "cell_type": "code",
   "execution_count": 7,
   "metadata": {
    "collapsed": false
   },
   "outputs": [],
   "source": [
    "radiant_gold = final_gold[['player_0', 'player_1', 'player_2', 'player_3', 'player_4']].sum(axis=1)\n",
    "dire_gold = final_gold[['player_5', 'player_6', 'player_7', 'player_8', 'player_9']].sum(axis=1)\n",
    "final_gold['radiant_gold'] = radiant_gold\n",
    "final_gold['dire_gold'] = dire_gold"
   ]
  },
  {
   "cell_type": "code",
   "execution_count": 8,
   "metadata": {
    "collapsed": true
   },
   "outputs": [],
   "source": [
    "final_gold['diff_gold'] = final_gold['radiant_gold'] - final_gold['dire_gold']\n",
    "final_gold['ratio_gold'] = final_gold['radiant_gold'] / final_gold['dire_gold']\n",
    "\n",
    "final_gold['strongest_diff_gold'] = final_gold['player_4'] - final_gold['player_9']\n",
    "final_gold['strongest_ratio_gold'] = final_gold['player_4'] / final_gold['player_9']"
   ]
  },
  {
   "cell_type": "markdown",
   "metadata": {},
   "source": [
    "## Сложим все признаки, которые мы нагенерировали, в один."
   ]
  },
  {
   "cell_type": "code",
   "execution_count": 9,
   "metadata": {
    "collapsed": false
   },
   "outputs": [],
   "source": [
    "all_features = final_gold"
   ]
  },
  {
   "cell_type": "code",
   "execution_count": 10,
   "metadata": {
    "collapsed": false
   },
   "outputs": [],
   "source": [
    "train = pd.merge(train_matches[['mid']], all_features, on='mid', how='left').drop(['mid'], 1)\n",
    "test = pd.merge(test_matches[['mid']], all_features, on='mid', how='left').drop(['mid'], 1)"
   ]
  },
  {
   "cell_type": "code",
   "execution_count": 11,
   "metadata": {
    "collapsed": true
   },
   "outputs": [],
   "source": [
    "x_train = train.values\n",
    "x_test = test.values\n",
    "y_train = train_matches.radiant_won.values"
   ]
  },
  {
   "cell_type": "code",
   "execution_count": 14,
   "metadata": {
    "collapsed": true
   },
   "outputs": [],
   "source": [
    "from sklearn import linear_model"
   ]
  },
  {
   "cell_type": "code",
   "execution_count": 15,
   "metadata": {
    "collapsed": false
   },
   "outputs": [
    {
     "data": {
      "text/plain": [
       "0.70851283446954572"
      ]
     },
     "execution_count": 15,
     "metadata": {},
     "output_type": "execute_result"
    }
   ],
   "source": [
    "clf = linear_model.LogisticRegression()\n",
    "np.mean(cross_val_score(clf, x_train, y_train, cv=5, scoring='roc_auc'))"
   ]
  },
  {
   "cell_type": "code",
   "execution_count": 16,
   "metadata": {
    "collapsed": false
   },
   "outputs": [
    {
     "data": {
      "text/plain": [
       "LogisticRegression(C=1.0, class_weight=None, dual=False, fit_intercept=True,\n",
       "          intercept_scaling=1, max_iter=100, multi_class='ovr', n_jobs=1,\n",
       "          penalty='l2', random_state=None, solver='liblinear', tol=0.0001,\n",
       "          verbose=0, warm_start=False)"
      ]
     },
     "execution_count": 16,
     "metadata": {},
     "output_type": "execute_result"
    }
   ],
   "source": [
    "clf.fit(x_train, y_train)"
   ]
  },
  {
   "cell_type": "code",
   "execution_count": 17,
   "metadata": {
    "collapsed": true
   },
   "outputs": [],
   "source": [
    "test_matches['radiant_won'] = clf.predict_proba(x_test)[:, 1]"
   ]
  },
  {
   "cell_type": "code",
   "execution_count": 18,
   "metadata": {
    "collapsed": true
   },
   "outputs": [],
   "source": [
    "test_matches.to_csv('my_solution.csv', index=None)"
   ]
  }
 ],
 "metadata": {
  "anaconda-cloud": {},
  "kernelspec": {
   "display_name": "Python [Root]",
   "language": "python",
   "name": "Python [Root]"
  },
  "language_info": {
   "codemirror_mode": {
    "name": "ipython",
    "version": 3
   },
   "file_extension": ".py",
   "mimetype": "text/x-python",
   "name": "python",
   "nbconvert_exporter": "python",
   "pygments_lexer": "ipython3",
   "version": "3.5.2"
  }
 },
 "nbformat": 4,
 "nbformat_minor": 0
}
